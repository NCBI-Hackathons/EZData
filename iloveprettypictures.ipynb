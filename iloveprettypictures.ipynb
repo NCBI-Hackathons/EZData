{
 "cells": [
  {
   "cell_type": "code",
   "execution_count": 41,
   "metadata": {},
   "outputs": [],
   "source": [
    "#!pip3 install --user plotly"
   ]
  },
  {
   "cell_type": "code",
   "execution_count": 1,
   "metadata": {},
   "outputs": [],
   "source": [
    "import sys\n",
    "import os\n",
    "sys.path.append(os.path.abspath('/Users/allenma/.local/lib/python3.6/site-packages/'))"
   ]
  },
  {
   "cell_type": "code",
   "execution_count": 5,
   "metadata": {},
   "outputs": [
    {
     "data": {
      "text/html": [
       "<script>requirejs.config({paths: { 'plotly': ['https://cdn.plot.ly/plotly-latest.min']},});if(!window.Plotly) {{require(['plotly'],function(plotly) {window.Plotly=plotly;});}}</script>"
      ],
      "text/vnd.plotly.v1+html": [
       "<script>requirejs.config({paths: { 'plotly': ['https://cdn.plot.ly/plotly-latest.min']},});if(!window.Plotly) {{require(['plotly'],function(plotly) {window.Plotly=plotly;});}}</script>"
      ]
     },
     "metadata": {},
     "output_type": "display_data"
    }
   ],
   "source": [
    "import pandas as pd\n",
    "import numpy as np\n",
    "from plotly.offline import download_plotlyjs, init_notebook_mode, plot, iplot\n",
    "import sys\n",
    "init_notebook_mode(connected=True)\n",
    "import plotly.graph_objs as go"
   ]
  },
  {
   "cell_type": "code",
   "execution_count": 6,
   "metadata": {},
   "outputs": [],
   "source": [
    "tablefile = \"test/outfile.csv\""
   ]
  },
  {
   "cell_type": "code",
   "execution_count": 8,
   "metadata": {},
   "outputs": [
    {
     "data": {
      "application/vnd.plotly.v1+json": {
       "data": [
        {
         "type": "bar",
         "x": [
          "SRR1105736",
          "SRR1105737",
          "SRR1105738",
          "SRR1105739",
          "SRR1105740",
          "SRR1105741",
          "SRR1224573",
          "SRR1224574"
         ],
         "y": [
          34.32,
          36.22,
          36.92,
          35.34,
          36.78,
          37.33,
          35,
          35.92
         ]
        }
       ],
       "layout": {
        "title": "average quality score of reads",
        "xaxis": {
         "title": "SRAs"
        },
        "yaxis": {
         "title": "Scores "
        }
       }
      },
      "text/html": [
       "<div id=\"883ace46-3f7d-4cb9-a89b-54521ad5f2f6\" style=\"height: 525px; width: 100%;\" class=\"plotly-graph-div\"></div><script type=\"text/javascript\">require([\"plotly\"], function(Plotly) { window.PLOTLYENV=window.PLOTLYENV || {};window.PLOTLYENV.BASE_URL=\"https://plot.ly\";Plotly.newPlot(\"883ace46-3f7d-4cb9-a89b-54521ad5f2f6\", [{\"type\": \"bar\", \"x\": [\"SRR1105736\", \"SRR1105737\", \"SRR1105738\", \"SRR1105739\", \"SRR1105740\", \"SRR1105741\", \"SRR1224573\", \"SRR1224574\"], \"y\": [34.32, 36.22, 36.92, 35.34, 36.78, 37.33, 35.0, 35.92]}], {\"title\": \"average quality score of reads\", \"xaxis\": {\"title\": \"SRAs\"}, \"yaxis\": {\"title\": \"Scores \"}}, {\"showLink\": true, \"linkText\": \"Export to plot.ly\"})});</script>"
      ],
      "text/vnd.plotly.v1+html": [
       "<div id=\"883ace46-3f7d-4cb9-a89b-54521ad5f2f6\" style=\"height: 525px; width: 100%;\" class=\"plotly-graph-div\"></div><script type=\"text/javascript\">require([\"plotly\"], function(Plotly) { window.PLOTLYENV=window.PLOTLYENV || {};window.PLOTLYENV.BASE_URL=\"https://plot.ly\";Plotly.newPlot(\"883ace46-3f7d-4cb9-a89b-54521ad5f2f6\", [{\"type\": \"bar\", \"x\": [\"SRR1105736\", \"SRR1105737\", \"SRR1105738\", \"SRR1105739\", \"SRR1105740\", \"SRR1105741\", \"SRR1224573\", \"SRR1224574\"], \"y\": [34.32, 36.22, 36.92, 35.34, 36.78, 37.33, 35.0, 35.92]}], {\"title\": \"average quality score of reads\", \"xaxis\": {\"title\": \"SRAs\"}, \"yaxis\": {\"title\": \"Scores \"}}, {\"showLink\": true, \"linkText\": \"Export to plot.ly\"})});</script>"
      ]
     },
     "metadata": {},
     "output_type": "display_data"
    }
   ],
   "source": [
    "\n",
    "def profilepic_defaulttablefile(tablefile):\n",
    "    df = pd.read_csv(tablefile)\n",
    "    qc_data = [go.Bar(x=df.Accession, y=df.mean_quality_score)]\n",
    "    iplot({ 'data': qc_data,\n",
    "            'layout': {\n",
    "               'title': 'average quality score of reads',\n",
    "               'xaxis': {\n",
    "                 'title': 'SRAs'},\n",
    "               'yaxis': {\n",
    "                'title': 'Scores '}\n",
    "             }})\n",
    "\n",
    "profilepic_defaulttablefile(tablefile)"
   ]
  },
  {
   "cell_type": "code",
   "execution_count": null,
   "metadata": {},
   "outputs": [],
   "source": [
    "def profilepic_fulltablefile(tablefile):\n",
    "    df = pd.read_csv(tablefile)\n",
    "    qc_data = [go.Bar(x=marks_df.Accession, y=marks_df.mean_quality_score)]\n",
    "    init_notebook_mode(connected=True)\n",
    "    py.iplot({ 'data': qc_data,\n",
    "            'layout': {\n",
    "               'title': 'Marks Distribution',\n",
    "               'xaxis': {\n",
    "                 'title': 'Subjects'},\n",
    "               'yaxis': {\n",
    "                'title': 'Marks '}\n",
    "             }})"
   ]
  }
 ],
 "metadata": {
  "kernelspec": {
   "display_name": "Python 3",
   "language": "python",
   "name": "python3"
  },
  "language_info": {
   "codemirror_mode": {
    "name": "ipython",
    "version": 3
   },
   "file_extension": ".py",
   "mimetype": "text/x-python",
   "name": "python",
   "nbconvert_exporter": "python",
   "pygments_lexer": "ipython3",
   "version": "3.6.3"
  }
 },
 "nbformat": 4,
 "nbformat_minor": 2
}
