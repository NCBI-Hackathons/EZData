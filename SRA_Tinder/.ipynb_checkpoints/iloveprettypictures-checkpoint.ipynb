{
 "cells": [
  {
   "cell_type": "markdown",
   "metadata": {},
   "source": [
    "\n",
    "This notebook is used to view your csv output file. To run, click run then chose run all. It is currently pointing at a test output file. You will need to point it at your output file if you want to see your data. You may need to change anything with your in it. \n",
    "\n",
    "example for changing it to your outfile\n",
    "tablefile = \"test/outfile.csv\"\n",
    "if your tablefile is located at '/Users/allenma/myoutfile.csv' then you should change the next box to:\n",
    "tablefile = \"/Users/allenma/myoutfile.csv\""
   ]
  },
  {
   "cell_type": "code",
   "execution_count": 1,
   "metadata": {},
   "outputs": [],
   "source": [
    "#here is where you point this to your file\n",
    "tablefile = \"../test/outfile.csv\""
   ]
  },
  {
   "cell_type": "code",
   "execution_count": 2,
   "metadata": {},
   "outputs": [],
   "source": [
    "import sys\n",
    "import os\n",
    "#this may not be necessry on your machine. It will error if you leave it set to my path\n",
    "#my plotly package was not able to load so I added this\n",
    "yourpathtoplotlysitepackages='/Users/allenma/.local/lib/python3.6/site-packages/'\n",
    "sys.path.append(os.path.abspath(yourpathtoplotlysitepackages))"
   ]
  },
  {
   "cell_type": "code",
   "execution_count": 3,
   "metadata": {},
   "outputs": [
    {
     "data": {
      "text/html": [
       "<script>requirejs.config({paths: { 'plotly': ['https://cdn.plot.ly/plotly-latest.min']},});if(!window.Plotly) {{require(['plotly'],function(plotly) {window.Plotly=plotly;});}}</script>"
      ],
      "text/vnd.plotly.v1+html": [
       "<script>requirejs.config({paths: { 'plotly': ['https://cdn.plot.ly/plotly-latest.min']},});if(!window.Plotly) {{require(['plotly'],function(plotly) {window.Plotly=plotly;});}}</script>"
      ]
     },
     "metadata": {},
     "output_type": "display_data"
    }
   ],
   "source": [
    "import pandas as pd\n",
    "import numpy as np\n",
    "from plotly.offline import download_plotlyjs, init_notebook_mode, plot, iplot\n",
    "import sys\n",
    "init_notebook_mode(connected=True)\n",
    "import plotly.graph_objs as go"
   ]
  },
  {
   "cell_type": "code",
   "execution_count": 4,
   "metadata": {},
   "outputs": [
    {
     "name": "stdout",
     "output_type": "stream",
     "text": [
      "Index(['Unnamed: 0', 'Accession', 'mean_quality_score',\n",
      "       'most_abundent_organism', 'percent_abundence',\n",
      "       'number_of_organims_greater_than_1%_abundence', 'totalreads',\n",
      "       'withadapter', 'mean_readlen', 'std_readlen', 'readlen_trimmed',\n",
      "       'std_readlen_trimmed'],\n",
      "      dtype='object')\n"
     ]
    }
   ],
   "source": [
    "#create a pandas dataframe from your table\n",
    "df = pd.read_csv(tablefile)\n",
    "#print the columsn in your dataframe\n",
    "print (df.columns)"
   ]
  },
  {
   "cell_type": "code",
   "execution_count": 5,
   "metadata": {},
   "outputs": [
    {
     "name": "stdout",
     "output_type": "stream",
     "text": [
      "<class 'pandas.core.series.Series'>\n"
     ]
    },
    {
     "data": {
      "application/vnd.plotly.v1+json": {
       "data": [
        {
         "labels": [
          "Bacteria",
          "Homosapiens",
          "Pan"
         ],
         "type": "pie",
         "values": [
          1,
          5,
          2
         ]
        }
       ],
       "layout": {}
      },
      "text/html": [
       "<div id=\"ca636b29-b452-4df0-9b17-538ebe52607a\" style=\"height: 525px; width: 100%;\" class=\"plotly-graph-div\"></div><script type=\"text/javascript\">require([\"plotly\"], function(Plotly) { window.PLOTLYENV=window.PLOTLYENV || {};window.PLOTLYENV.BASE_URL=\"https://plot.ly\";Plotly.newPlot(\"ca636b29-b452-4df0-9b17-538ebe52607a\", [{\"type\": \"pie\", \"labels\": [\"Bacteria\", \"Homosapiens\", \"Pan\"], \"values\": [1, 5, 2]}], {}, {\"showLink\": true, \"linkText\": \"Export to plot.ly\"})});</script>"
      ],
      "text/vnd.plotly.v1+html": [
       "<div id=\"ca636b29-b452-4df0-9b17-538ebe52607a\" style=\"height: 525px; width: 100%;\" class=\"plotly-graph-div\"></div><script type=\"text/javascript\">require([\"plotly\"], function(Plotly) { window.PLOTLYENV=window.PLOTLYENV || {};window.PLOTLYENV.BASE_URL=\"https://plot.ly\";Plotly.newPlot(\"ca636b29-b452-4df0-9b17-538ebe52607a\", [{\"type\": \"pie\", \"labels\": [\"Bacteria\", \"Homosapiens\", \"Pan\"], \"values\": [1, 5, 2]}], {}, {\"showLink\": true, \"linkText\": \"Export to plot.ly\"})});</script>"
      ]
     },
     "metadata": {},
     "output_type": "display_data"
    }
   ],
   "source": [
    "result = df.groupby('most_abundent_organism')['Accession'].nunique()\n",
    "print (type(result))\n",
    "values = result.tolist()\n",
    "labels = result.index.tolist()\n",
    "trace = go.Pie(labels=labels, values=values)\n",
    "iplot([trace], filename='organisms_found')"
   ]
  },
  {
   "cell_type": "code",
   "execution_count": 6,
   "metadata": {},
   "outputs": [],
   "source": [
    "\n",
    "def profilepic_bargraph_from_tablefile(tablefile, columnname, graph_label_for_columnname, graph_title):\n",
    "    qc_data = [go.Bar(x=df.Accession, y=df[columnname])]\n",
    "    iplot({ 'data': qc_data,\n",
    "            'layout': {\n",
    "               'title': graph_title,\n",
    "               'xaxis': {\n",
    "                 'title': 'SRAs'},\n",
    "               'yaxis': {\n",
    "                'title': graph_label_for_columnname}\n",
    "             }})\n",
    "    \n"
   ]
  },
  {
   "cell_type": "code",
   "execution_count": 7,
   "metadata": {},
   "outputs": [
    {
     "data": {
      "application/vnd.plotly.v1+json": {
       "data": [
        {
         "type": "bar",
         "x": [
          "SRR1105736",
          "SRR1105737",
          "SRR1105738",
          "SRR1105739",
          "SRR1105740",
          "SRR1105741",
          "SRR1224573",
          "SRR1224574"
         ],
         "y": [
          34.32,
          36.22,
          36.92,
          35.34,
          36.78,
          37.33,
          35,
          35.92
         ]
        }
       ],
       "layout": {
        "title": "Average Quality Score",
        "xaxis": {
         "title": "SRAs"
        },
        "yaxis": {
         "title": "quality score"
        }
       }
      },
      "text/html": [
       "<div id=\"c8b46a9e-3def-4f08-9b92-aa24e4d3f409\" style=\"height: 525px; width: 100%;\" class=\"plotly-graph-div\"></div><script type=\"text/javascript\">require([\"plotly\"], function(Plotly) { window.PLOTLYENV=window.PLOTLYENV || {};window.PLOTLYENV.BASE_URL=\"https://plot.ly\";Plotly.newPlot(\"c8b46a9e-3def-4f08-9b92-aa24e4d3f409\", [{\"type\": \"bar\", \"x\": [\"SRR1105736\", \"SRR1105737\", \"SRR1105738\", \"SRR1105739\", \"SRR1105740\", \"SRR1105741\", \"SRR1224573\", \"SRR1224574\"], \"y\": [34.32, 36.22, 36.92, 35.34, 36.78, 37.33, 35.0, 35.92]}], {\"title\": \"Average Quality Score\", \"xaxis\": {\"title\": \"SRAs\"}, \"yaxis\": {\"title\": \"quality score\"}}, {\"showLink\": true, \"linkText\": \"Export to plot.ly\"})});</script>"
      ],
      "text/vnd.plotly.v1+html": [
       "<div id=\"c8b46a9e-3def-4f08-9b92-aa24e4d3f409\" style=\"height: 525px; width: 100%;\" class=\"plotly-graph-div\"></div><script type=\"text/javascript\">require([\"plotly\"], function(Plotly) { window.PLOTLYENV=window.PLOTLYENV || {};window.PLOTLYENV.BASE_URL=\"https://plot.ly\";Plotly.newPlot(\"c8b46a9e-3def-4f08-9b92-aa24e4d3f409\", [{\"type\": \"bar\", \"x\": [\"SRR1105736\", \"SRR1105737\", \"SRR1105738\", \"SRR1105739\", \"SRR1105740\", \"SRR1105741\", \"SRR1224573\", \"SRR1224574\"], \"y\": [34.32, 36.22, 36.92, 35.34, 36.78, 37.33, 35.0, 35.92]}], {\"title\": \"Average Quality Score\", \"xaxis\": {\"title\": \"SRAs\"}, \"yaxis\": {\"title\": \"quality score\"}}, {\"showLink\": true, \"linkText\": \"Export to plot.ly\"})});</script>"
      ]
     },
     "metadata": {},
     "output_type": "display_data"
    }
   ],
   "source": [
    "columnname = \"mean_quality_score\"\n",
    "graph_label_for_columnname = \"quality score\"\n",
    "graph_title = \"Average Quality Score\"\n",
    "profilepic_bargraph_from_tablefile(tablefile, columnname, graph_label_for_columnname, graph_title)"
   ]
  },
  {
   "cell_type": "code",
   "execution_count": 8,
   "metadata": {},
   "outputs": [
    {
     "data": {
      "application/vnd.plotly.v1+json": {
       "data": [
        {
         "type": "bar",
         "x": [
          "SRR1105736",
          "SRR1105737",
          "SRR1105738",
          "SRR1105739",
          "SRR1105740",
          "SRR1105741",
          "SRR1224573",
          "SRR1224574"
         ],
         "y": [
          1,
          4,
          4,
          7,
          5,
          2,
          5,
          5
         ]
        }
       ],
       "layout": {
        "title": "Number of Organims Greater Than 1%abundence",
        "xaxis": {
         "title": "SRAs"
        },
        "yaxis": {
         "title": "Organisms"
        }
       }
      },
      "text/html": [
       "<div id=\"b4a474dc-17ea-4beb-9f30-f9d1c2cad549\" style=\"height: 525px; width: 100%;\" class=\"plotly-graph-div\"></div><script type=\"text/javascript\">require([\"plotly\"], function(Plotly) { window.PLOTLYENV=window.PLOTLYENV || {};window.PLOTLYENV.BASE_URL=\"https://plot.ly\";Plotly.newPlot(\"b4a474dc-17ea-4beb-9f30-f9d1c2cad549\", [{\"type\": \"bar\", \"x\": [\"SRR1105736\", \"SRR1105737\", \"SRR1105738\", \"SRR1105739\", \"SRR1105740\", \"SRR1105741\", \"SRR1224573\", \"SRR1224574\"], \"y\": [1, 4, 4, 7, 5, 2, 5, 5]}], {\"title\": \"Number of Organims Greater Than 1%abundence\", \"xaxis\": {\"title\": \"SRAs\"}, \"yaxis\": {\"title\": \"Organisms\"}}, {\"showLink\": true, \"linkText\": \"Export to plot.ly\"})});</script>"
      ],
      "text/vnd.plotly.v1+html": [
       "<div id=\"b4a474dc-17ea-4beb-9f30-f9d1c2cad549\" style=\"height: 525px; width: 100%;\" class=\"plotly-graph-div\"></div><script type=\"text/javascript\">require([\"plotly\"], function(Plotly) { window.PLOTLYENV=window.PLOTLYENV || {};window.PLOTLYENV.BASE_URL=\"https://plot.ly\";Plotly.newPlot(\"b4a474dc-17ea-4beb-9f30-f9d1c2cad549\", [{\"type\": \"bar\", \"x\": [\"SRR1105736\", \"SRR1105737\", \"SRR1105738\", \"SRR1105739\", \"SRR1105740\", \"SRR1105741\", \"SRR1224573\", \"SRR1224574\"], \"y\": [1, 4, 4, 7, 5, 2, 5, 5]}], {\"title\": \"Number of Organims Greater Than 1%abundence\", \"xaxis\": {\"title\": \"SRAs\"}, \"yaxis\": {\"title\": \"Organisms\"}}, {\"showLink\": true, \"linkText\": \"Export to plot.ly\"})});</script>"
      ]
     },
     "metadata": {},
     "output_type": "display_data"
    }
   ],
   "source": [
    "columnname = \"number_of_organims_greater_than_1%_abundence\"\n",
    "graph_label_for_columnname = \"Organisms\"\n",
    "graph_title = \"Number of Organims Greater Than 1%abundence\"\n",
    "profilepic_bargraph_from_tablefile(tablefile, columnname, graph_label_for_columnname, graph_title)"
   ]
  },
  {
   "cell_type": "code",
   "execution_count": 9,
   "metadata": {},
   "outputs": [
    {
     "data": {
      "application/vnd.plotly.v1+json": {
       "data": [
        {
         "type": "bar",
         "x": [
          "SRR1105736",
          "SRR1105737",
          "SRR1105738",
          "SRR1105739",
          "SRR1105740",
          "SRR1105741",
          "SRR1224573",
          "SRR1224574"
         ],
         "y": [
          15.084915084915085,
          4.795204795204795,
          2.997002997002997,
          7.392607392607392,
          3.3966033966033966,
          3.096903096903097,
          3.4965034965034967,
          3.3966033966033966
         ]
        }
       ],
       "layout": {
        "title": "Roughly estimated percentage of reads with adapter",
        "xaxis": {
         "title": "SRAs"
        },
        "yaxis": {
         "title": "percentage"
        }
       }
      },
      "text/html": [
       "<div id=\"27613014-6fd3-4aaf-925e-8ec7f984a2d1\" style=\"height: 525px; width: 100%;\" class=\"plotly-graph-div\"></div><script type=\"text/javascript\">require([\"plotly\"], function(Plotly) { window.PLOTLYENV=window.PLOTLYENV || {};window.PLOTLYENV.BASE_URL=\"https://plot.ly\";Plotly.newPlot(\"27613014-6fd3-4aaf-925e-8ec7f984a2d1\", [{\"type\": \"bar\", \"x\": [\"SRR1105736\", \"SRR1105737\", \"SRR1105738\", \"SRR1105739\", \"SRR1105740\", \"SRR1105741\", \"SRR1224573\", \"SRR1224574\"], \"y\": [15.084915084915085, 4.795204795204795, 2.997002997002997, 7.392607392607392, 3.3966033966033966, 3.096903096903097, 3.4965034965034967, 3.3966033966033966]}], {\"title\": \"Roughly estimated percentage of reads with adapter\", \"xaxis\": {\"title\": \"SRAs\"}, \"yaxis\": {\"title\": \"percentage\"}}, {\"showLink\": true, \"linkText\": \"Export to plot.ly\"})});</script>"
      ],
      "text/vnd.plotly.v1+html": [
       "<div id=\"27613014-6fd3-4aaf-925e-8ec7f984a2d1\" style=\"height: 525px; width: 100%;\" class=\"plotly-graph-div\"></div><script type=\"text/javascript\">require([\"plotly\"], function(Plotly) { window.PLOTLYENV=window.PLOTLYENV || {};window.PLOTLYENV.BASE_URL=\"https://plot.ly\";Plotly.newPlot(\"27613014-6fd3-4aaf-925e-8ec7f984a2d1\", [{\"type\": \"bar\", \"x\": [\"SRR1105736\", \"SRR1105737\", \"SRR1105738\", \"SRR1105739\", \"SRR1105740\", \"SRR1105741\", \"SRR1224573\", \"SRR1224574\"], \"y\": [15.084915084915085, 4.795204795204795, 2.997002997002997, 7.392607392607392, 3.3966033966033966, 3.096903096903097, 3.4965034965034967, 3.3966033966033966]}], {\"title\": \"Roughly estimated percentage of reads with adapter\", \"xaxis\": {\"title\": \"SRAs\"}, \"yaxis\": {\"title\": \"percentage\"}}, {\"showLink\": true, \"linkText\": \"Export to plot.ly\"})});</script>"
      ]
     },
     "metadata": {},
     "output_type": "display_data"
    }
   ],
   "source": [
    "\n",
    "graph_label_for_columnname = \"percentage\"\n",
    "graph_title = \"Roughly estimated percentage of reads with adapter\"\n",
    "df['perc_adapter'] = (df['withadapter'] / df['totalreads']) *100\n",
    "columnname = \"perc_adapter\"\n",
    "profilepic_bargraph_from_tablefile(tablefile, columnname, graph_label_for_columnname, graph_title)\n",
    "#This should be all identical!!!\n",
    "\n"
   ]
  },
  {
   "cell_type": "code",
   "execution_count": 10,
   "metadata": {},
   "outputs": [
    {
     "data": {
      "application/vnd.plotly.v1+json": {
       "data": [
        {
         "type": "bar",
         "x": [
          "SRR1105736",
          "SRR1105737",
          "SRR1105738",
          "SRR1105739",
          "SRR1105740",
          "SRR1105741",
          "SRR1224573",
          "SRR1224574"
         ],
         "y": [
          1001,
          1001,
          1001,
          1001,
          1001,
          1001,
          1001,
          1001
         ]
        }
       ],
       "layout": {
        "title": "Total reads we used to make our calls from the records",
        "xaxis": {
         "title": "SRAs"
        },
        "yaxis": {
         "title": "Reads"
        }
       }
      },
      "text/html": [
       "<div id=\"b6c2a081-4fa9-4f9e-a4b5-d0f41b3d3474\" style=\"height: 525px; width: 100%;\" class=\"plotly-graph-div\"></div><script type=\"text/javascript\">require([\"plotly\"], function(Plotly) { window.PLOTLYENV=window.PLOTLYENV || {};window.PLOTLYENV.BASE_URL=\"https://plot.ly\";Plotly.newPlot(\"b6c2a081-4fa9-4f9e-a4b5-d0f41b3d3474\", [{\"type\": \"bar\", \"x\": [\"SRR1105736\", \"SRR1105737\", \"SRR1105738\", \"SRR1105739\", \"SRR1105740\", \"SRR1105741\", \"SRR1224573\", \"SRR1224574\"], \"y\": [1001, 1001, 1001, 1001, 1001, 1001, 1001, 1001]}], {\"title\": \"Total reads we used to make our calls from the records\", \"xaxis\": {\"title\": \"SRAs\"}, \"yaxis\": {\"title\": \"Reads\"}}, {\"showLink\": true, \"linkText\": \"Export to plot.ly\"})});</script>"
      ],
      "text/vnd.plotly.v1+html": [
       "<div id=\"b6c2a081-4fa9-4f9e-a4b5-d0f41b3d3474\" style=\"height: 525px; width: 100%;\" class=\"plotly-graph-div\"></div><script type=\"text/javascript\">require([\"plotly\"], function(Plotly) { window.PLOTLYENV=window.PLOTLYENV || {};window.PLOTLYENV.BASE_URL=\"https://plot.ly\";Plotly.newPlot(\"b6c2a081-4fa9-4f9e-a4b5-d0f41b3d3474\", [{\"type\": \"bar\", \"x\": [\"SRR1105736\", \"SRR1105737\", \"SRR1105738\", \"SRR1105739\", \"SRR1105740\", \"SRR1105741\", \"SRR1224573\", \"SRR1224574\"], \"y\": [1001, 1001, 1001, 1001, 1001, 1001, 1001, 1001]}], {\"title\": \"Total reads we used to make our calls from the records\", \"xaxis\": {\"title\": \"SRAs\"}, \"yaxis\": {\"title\": \"Reads\"}}, {\"showLink\": true, \"linkText\": \"Export to plot.ly\"})});</script>"
      ]
     },
     "metadata": {},
     "output_type": "display_data"
    }
   ],
   "source": [
    "columnname = \"totalreads\"\n",
    "graph_label_for_columnname = \"Reads\"\n",
    "graph_title = \"Total reads we used to make our calls from the records\"\n",
    "profilepic_bargraph_from_tablefile(tablefile, columnname, graph_label_for_columnname, graph_title)\n",
    "#This should be all identical!!!\n"
   ]
  },
  {
   "cell_type": "code",
   "execution_count": 11,
   "metadata": {},
   "outputs": [],
   "source": [
    "def profilepic_bargraph_from_tablefile_witherror(tablefile, columnname, graph_label_for_columnname, graph_title, errorcol):\n",
    "    qc_data = [go.Bar(x=df.Accession, y=df[columnname],error_y=dict(type='data',array=df[errorcol]))]\n",
    "    iplot({ 'data': qc_data,\n",
    "            'layout': {\n",
    "               'title': graph_title,\n",
    "               'xaxis': {\n",
    "                 'title': 'SRAs'},\n",
    "               'yaxis': {\n",
    "                'title': graph_label_for_columnname}\n",
    "             }})"
   ]
  },
  {
   "cell_type": "code",
   "execution_count": null,
   "metadata": {},
   "outputs": [],
   "source": []
  },
  {
   "cell_type": "code",
   "execution_count": 12,
   "metadata": {},
   "outputs": [
    {
     "data": {
      "application/vnd.plotly.v1+json": {
       "data": [
        {
         "error_y": {
          "array": [
           0,
           0,
           0,
           0,
           0,
           0,
           0,
           0
          ],
          "type": "data"
         },
         "type": "bar",
         "x": [
          "SRR1105736",
          "SRR1105737",
          "SRR1105738",
          "SRR1105739",
          "SRR1105740",
          "SRR1105741",
          "SRR1224573",
          "SRR1224574"
         ],
         "y": [
          50,
          50,
          50,
          50,
          50,
          50,
          50,
          50
         ]
        }
       ],
       "layout": {
        "title": "Average lenghth of reads before triming",
        "xaxis": {
         "title": "SRAs"
        },
        "yaxis": {
         "title": "Reads"
        }
       }
      },
      "text/html": [
       "<div id=\"262ed724-ea39-4137-9fad-829dbdb8da00\" style=\"height: 525px; width: 100%;\" class=\"plotly-graph-div\"></div><script type=\"text/javascript\">require([\"plotly\"], function(Plotly) { window.PLOTLYENV=window.PLOTLYENV || {};window.PLOTLYENV.BASE_URL=\"https://plot.ly\";Plotly.newPlot(\"262ed724-ea39-4137-9fad-829dbdb8da00\", [{\"type\": \"bar\", \"x\": [\"SRR1105736\", \"SRR1105737\", \"SRR1105738\", \"SRR1105739\", \"SRR1105740\", \"SRR1105741\", \"SRR1224573\", \"SRR1224574\"], \"y\": [50.0, 50.0, 50.0, 50.0, 50.0, 50.0, 50.0, 50.0], \"error_y\": {\"type\": \"data\", \"array\": [0.0, 0.0, 0.0, 0.0, 0.0, 0.0, 0.0, 0.0]}}], {\"title\": \"Average lenghth of reads before triming\", \"xaxis\": {\"title\": \"SRAs\"}, \"yaxis\": {\"title\": \"Reads\"}}, {\"showLink\": true, \"linkText\": \"Export to plot.ly\"})});</script>"
      ],
      "text/vnd.plotly.v1+html": [
       "<div id=\"262ed724-ea39-4137-9fad-829dbdb8da00\" style=\"height: 525px; width: 100%;\" class=\"plotly-graph-div\"></div><script type=\"text/javascript\">require([\"plotly\"], function(Plotly) { window.PLOTLYENV=window.PLOTLYENV || {};window.PLOTLYENV.BASE_URL=\"https://plot.ly\";Plotly.newPlot(\"262ed724-ea39-4137-9fad-829dbdb8da00\", [{\"type\": \"bar\", \"x\": [\"SRR1105736\", \"SRR1105737\", \"SRR1105738\", \"SRR1105739\", \"SRR1105740\", \"SRR1105741\", \"SRR1224573\", \"SRR1224574\"], \"y\": [50.0, 50.0, 50.0, 50.0, 50.0, 50.0, 50.0, 50.0], \"error_y\": {\"type\": \"data\", \"array\": [0.0, 0.0, 0.0, 0.0, 0.0, 0.0, 0.0, 0.0]}}], {\"title\": \"Average lenghth of reads before triming\", \"xaxis\": {\"title\": \"SRAs\"}, \"yaxis\": {\"title\": \"Reads\"}}, {\"showLink\": true, \"linkText\": \"Export to plot.ly\"})});</script>"
      ]
     },
     "metadata": {},
     "output_type": "display_data"
    }
   ],
   "source": [
    "#'withadapter', 'mean_readlen', 'std_readlen', 'readlen_trimmed', 'std_readlen_trimmed'\n",
    "columnname = \"mean_readlen\"\n",
    "graph_label_for_columnname = \"Reads\"\n",
    "graph_title = \"Average lenghth of reads before triming\"\n",
    "errorcol = \"std_readlen\"\n",
    "profilepic_bargraph_from_tablefile_witherror(tablefile, columnname, graph_label_for_columnname, graph_title,errorcol)"
   ]
  },
  {
   "cell_type": "code",
   "execution_count": null,
   "metadata": {},
   "outputs": [],
   "source": []
  },
  {
   "cell_type": "code",
   "execution_count": 13,
   "metadata": {},
   "outputs": [
    {
     "data": {
      "application/vnd.plotly.v1+json": {
       "data": [
        {
         "error_y": {
          "array": [
           6.7301322466867015,
           8.197645325877968,
           12.763837806692607,
           10.737964026714122,
           12.475304324667981,
           10.040189790545641,
           13.699515856185489,
           11.641004070892972
          ],
          "type": "data"
         },
         "type": "bar",
         "x": [
          "SRR1105736",
          "SRR1105737",
          "SRR1105738",
          "SRR1105739",
          "SRR1105740",
          "SRR1105741",
          "SRR1224573",
          "SRR1224574"
         ],
         "y": [
          19.152317880794698,
          18.416666666666668,
          23.86666666666667,
          21.513513513513512,
          24.882352941176467,
          21.967741935483872,
          18.742857142857144,
          18.323529411764707
         ]
        }
       ],
       "layout": {
        "title": "Roughtly Estimated read length after you adapter trim",
        "xaxis": {
         "title": "SRAs"
        },
        "yaxis": {
         "title": "length of read"
        }
       }
      },
      "text/html": [
       "<div id=\"5233c9ac-a9ea-4047-88a2-1a02b27bb9e3\" style=\"height: 525px; width: 100%;\" class=\"plotly-graph-div\"></div><script type=\"text/javascript\">require([\"plotly\"], function(Plotly) { window.PLOTLYENV=window.PLOTLYENV || {};window.PLOTLYENV.BASE_URL=\"https://plot.ly\";Plotly.newPlot(\"5233c9ac-a9ea-4047-88a2-1a02b27bb9e3\", [{\"type\": \"bar\", \"x\": [\"SRR1105736\", \"SRR1105737\", \"SRR1105738\", \"SRR1105739\", \"SRR1105740\", \"SRR1105741\", \"SRR1224573\", \"SRR1224574\"], \"y\": [19.152317880794698, 18.416666666666668, 23.86666666666667, 21.513513513513512, 24.882352941176467, 21.967741935483872, 18.742857142857144, 18.323529411764707], \"error_y\": {\"type\": \"data\", \"array\": [6.7301322466867015, 8.197645325877968, 12.763837806692607, 10.737964026714122, 12.475304324667981, 10.040189790545641, 13.699515856185489, 11.641004070892972]}}], {\"title\": \"Roughtly Estimated read length after you adapter trim\", \"xaxis\": {\"title\": \"SRAs\"}, \"yaxis\": {\"title\": \"length of read\"}}, {\"showLink\": true, \"linkText\": \"Export to plot.ly\"})});</script>"
      ],
      "text/vnd.plotly.v1+html": [
       "<div id=\"5233c9ac-a9ea-4047-88a2-1a02b27bb9e3\" style=\"height: 525px; width: 100%;\" class=\"plotly-graph-div\"></div><script type=\"text/javascript\">require([\"plotly\"], function(Plotly) { window.PLOTLYENV=window.PLOTLYENV || {};window.PLOTLYENV.BASE_URL=\"https://plot.ly\";Plotly.newPlot(\"5233c9ac-a9ea-4047-88a2-1a02b27bb9e3\", [{\"type\": \"bar\", \"x\": [\"SRR1105736\", \"SRR1105737\", \"SRR1105738\", \"SRR1105739\", \"SRR1105740\", \"SRR1105741\", \"SRR1224573\", \"SRR1224574\"], \"y\": [19.152317880794698, 18.416666666666668, 23.86666666666667, 21.513513513513512, 24.882352941176467, 21.967741935483872, 18.742857142857144, 18.323529411764707], \"error_y\": {\"type\": \"data\", \"array\": [6.7301322466867015, 8.197645325877968, 12.763837806692607, 10.737964026714122, 12.475304324667981, 10.040189790545641, 13.699515856185489, 11.641004070892972]}}], {\"title\": \"Roughtly Estimated read length after you adapter trim\", \"xaxis\": {\"title\": \"SRAs\"}, \"yaxis\": {\"title\": \"length of read\"}}, {\"showLink\": true, \"linkText\": \"Export to plot.ly\"})});</script>"
      ]
     },
     "metadata": {},
     "output_type": "display_data"
    }
   ],
   "source": [
    "columnname = \"readlen_trimmed\"\n",
    "graph_label_for_columnname = \"length of read\"\n",
    "graph_title = \"Roughtly Estimated read length after you adapter trim\"\n",
    "errorcol = \"std_readlen_trimmed\"\n",
    "profilepic_bargraph_from_tablefile_witherror(tablefile, columnname, graph_label_for_columnname, graph_title,errorcol)\n",
    "    "
   ]
  },
  {
   "cell_type": "code",
   "execution_count": null,
   "metadata": {},
   "outputs": [],
   "source": []
  }
 ],
 "metadata": {
  "kernelspec": {
   "display_name": "Python 3",
   "language": "python",
   "name": "python3"
  },
  "language_info": {
   "codemirror_mode": {
    "name": "ipython",
    "version": 3
   },
   "file_extension": ".py",
   "mimetype": "text/x-python",
   "name": "python",
   "nbconvert_exporter": "python",
   "pygments_lexer": "ipython3",
   "version": "3.6.3"
  }
 },
 "nbformat": 4,
 "nbformat_minor": 2
}
